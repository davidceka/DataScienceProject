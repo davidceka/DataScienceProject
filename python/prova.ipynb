{
 "cells": [
  {
   "cell_type": "code",
   "execution_count": null,
   "metadata": {},
   "outputs": [],
   "source": [
    "import pandas as pd\n",
    "import seaborn as sns\n",
    "from matplotlib import pyplot as plt\n",
    "import warnings\n",
    "warnings.filterwarnings(\"ignore\")\n"
   ]
  },
  {
   "cell_type": "code",
   "execution_count": 48,
   "metadata": {},
   "outputs": [],
   "source": [
    "data=pd.read_csv('dataset/heart_2020_cleaned.csv')\n",
    "data.replace(('Yes','No'),(1,0),inplace=True)\n",
    "data.replace(('Male','Female'),(1,0),inplace=True)\n",
    "data.describe()\n",
    "data.to_csv('dataset/prova.csv')\n",
    "\n"
   ]
  },
  {
   "cell_type": "code",
   "execution_count": null,
   "metadata": {},
   "outputs": [],
   "source": [
    "data.isnull().sum()"
   ]
  },
  {
   "cell_type": "code",
   "execution_count": null,
   "metadata": {},
   "outputs": [],
   "source": [
    "# Diabetes_012\n",
    "plt.figure(figsize=(40,100))\n",
    "plt.subplot(11, 2, 1)\n",
    "sns.set(style = 'whitegrid')\n",
    "sns.distplot(data['HeartDisease'], kde=False)\n",
    "plt.title('Distribution of Diabetes diagnosis', fontsize = 20)\n",
    "plt.xlabel('Range of Annual Income')\n",
    "plt.ylabel('Count')\n",
    "\n",
    "# Diabetes_012\n",
    "plt.figure(figsize=(40,100))\n",
    "plt.subplot(11, 2, 2)\n",
    "sns.set(style = 'whitegrid')\n",
    "sns.distplot(data['BMI'], kde=False)\n",
    "plt.title('Distribution of Heart diagnosis', fontsize = 20)\n",
    "plt.xlabel('Range of Race')\n",
    "plt.ylabel('Count')\n",
    "\n"
   ]
  },
  {
   "cell_type": "code",
   "execution_count": null,
   "metadata": {},
   "outputs": [],
   "source": []
  }
 ],
 "metadata": {
  "kernelspec": {
   "display_name": "Python 3.10.8 64-bit ('3.10.8')",
   "language": "python",
   "name": "python3"
  },
  "language_info": {
   "codemirror_mode": {
    "name": "ipython",
    "version": 3
   },
   "file_extension": ".py",
   "mimetype": "text/x-python",
   "name": "python",
   "nbconvert_exporter": "python",
   "pygments_lexer": "ipython3",
   "version": "3.10.8"
  },
  "orig_nbformat": 4,
  "vscode": {
   "interpreter": {
    "hash": "f4cea04045515dd8f2fb8ec941b2acbe5b826bfbc073019e06163b29ec00188d"
   }
  }
 },
 "nbformat": 4,
 "nbformat_minor": 2
}
